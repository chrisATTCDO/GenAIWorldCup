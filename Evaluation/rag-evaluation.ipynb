{
 "cells": [
  {
   "cell_type": "markdown",
   "metadata": {
    "application/vnd.databricks.v1+cell": {
     "cellMetadata": {
      "byteLimit": 2048000,
      "rowLimit": 10000
     },
     "inputWidgets": {},
     "nuid": "42084110-295b-493a-9b3e-5d8d29ff78b3",
     "showTitle": false,
     "title": ""
    }
   },
   "source": [
    "# LLM RAG Evaluation"
   ]
  },
  {
   "cell_type": "code",
   "execution_count": 0,
   "metadata": {
    "application/vnd.databricks.v1+cell": {
     "cellMetadata": {
      "byteLimit": 2048000,
      "rowLimit": 10000
     },
     "inputWidgets": {},
     "nuid": "805bca0e-99ff-47a1-9631-21c4a3ec4df4",
     "showTitle": false,
     "title": ""
    }
   },
   "outputs": [],
   "source": [
    "dbutils.library.restartPython()"
   ]
  },
  {
   "cell_type": "code",
   "execution_count": 0,
   "metadata": {
    "application/vnd.databricks.v1+cell": {
     "cellMetadata": {
      "byteLimit": 2048000,
      "rowLimit": 10000
     },
     "inputWidgets": {},
     "nuid": "20799b7a-5c88-4fe0-9c77-5b64690c738d",
     "showTitle": false,
     "title": ""
    }
   },
   "outputs": [],
   "source": [
    "import pandas as pd\n",
    "import mlflow\n",
    "from mlflow.metrics.genai import EvaluationExample, faithfulness, relevance\n",
    "import json\n",
    "import os"
   ]
  },
  {
   "cell_type": "code",
   "execution_count": 0,
   "metadata": {
    "application/vnd.databricks.v1+cell": {
     "cellMetadata": {
      "byteLimit": 2048000,
      "rowLimit": 10000
     },
     "inputWidgets": {},
     "nuid": "1fad5691-880a-4334-b51c-428a8f6b64c0",
     "showTitle": false,
     "title": ""
    }
   },
   "outputs": [],
   "source": [
    "# use databricks foundation model\n",
    "from mlflow.deployments import set_deployments_target\n",
    "set_deployments_target(\"databricks\")\n"
   ]
  },
  {
   "cell_type": "markdown",
   "metadata": {
    "application/vnd.databricks.v1+cell": {
     "cellMetadata": {
      "byteLimit": 2048000,
      "rowLimit": 10000
     },
     "inputWidgets": {},
     "nuid": "fd70bcf6-7c44-44d3-9435-567b82611e1c",
     "showTitle": false,
     "title": ""
    }
   },
   "source": [
    "## Evaluate the RAG system using `mlflow.evaluate()`"
   ]
  },
  {
   "cell_type": "code",
   "execution_count": 0,
   "metadata": {
    "application/vnd.databricks.v1+cell": {
     "cellMetadata": {
      "byteLimit": 2048000,
      "rowLimit": 10000
     },
     "inputWidgets": {},
     "nuid": "072a84cf-0627-48c5-b928-6228796b2591",
     "showTitle": false,
     "title": ""
    }
   },
   "outputs": [],
   "source": [
    "# run_id = \"09af3d60663143b8ba04c7dbdf671606\" #databricks-meta-llama-3-1-405b-instruct\n",
    "# run_id = \"f8c40e79a1ca4245abc1f9697801de87\" # openAI\n",
    "run_id = \"d730c421a4084658991bf50a63169f3c\" # databricks-llama-2-70b-chat\n",
    "# run_id = \"bc4cc2ff25b7455fa262fdabe5c932ba\" # databricks-meta-llama-3-1-70b-instruct"
   ]
  },
  {
   "cell_type": "code",
   "execution_count": 0,
   "metadata": {
    "application/vnd.databricks.v1+cell": {
     "cellMetadata": {
      "byteLimit": 2048000,
      "rowLimit": 10000
     },
     "inputWidgets": {},
     "nuid": "667ec809-2bb5-4170-9937-6804386b41ec",
     "showTitle": false,
     "title": ""
    }
   },
   "outputs": [],
   "source": [
    "model_uri =f\"runs:/{run_id}/wallstreet_model\"\n",
    "def model(input_df):\n",
    "    answer = []\n",
    "    loaded_model = mlflow.pyfunc.load_model(model_uri)\n",
    "    for index, row in input_df.iterrows():\n",
    "        stock_chat_history = row[\"chat_history\"]\n",
    "        query = row[\"query\"]\n",
    "        input_df = pd.DataFrame({\n",
    "        \"query\": [query],\n",
    "        \"chat_history\": stock_chat_history,  # Assuming the model expects this format; adjust if necessary\n",
    "})\n",
    "        answer.append(loaded_model.predict(input_df))\n",
    "\n",
    "    return answer"
   ]
  },
  {
   "cell_type": "markdown",
   "metadata": {
    "application/vnd.databricks.v1+cell": {
     "cellMetadata": {
      "byteLimit": 2048000,
      "rowLimit": 10000
     },
     "inputWidgets": {},
     "nuid": "d1064306-b7f3-4b3e-825c-4353d808f21d",
     "showTitle": false,
     "title": ""
    }
   },
   "source": [
    "Load the eval dataset"
   ]
  },
  {
   "cell_type": "code",
   "execution_count": 0,
   "metadata": {
    "application/vnd.databricks.v1+cell": {
     "cellMetadata": {
      "byteLimit": 2048000,
      "rowLimit": 10000
     },
     "inputWidgets": {},
     "nuid": "6b27f654-9cf7-4f84-916a-b627ed1853c1",
     "showTitle": false,
     "title": ""
    }
   },
   "outputs": [],
   "source": [
    "eval_df = pd.read_csv(\"/dbfs/mnt/regression_testing1/hackathon_files/eval_df_v3.csv\")"
   ]
  },
  {
   "cell_type": "markdown",
   "metadata": {
    "application/vnd.databricks.v1+cell": {
     "cellMetadata": {
      "byteLimit": 2048000,
      "rowLimit": 10000
     },
     "inputWidgets": {},
     "nuid": "9c3c8023-8feb-427a-b36d-34cd1853a5dc",
     "showTitle": false,
     "title": ""
    }
   },
   "source": [
    "Create a faithfulness metric"
   ]
  },
  {
   "cell_type": "code",
   "execution_count": 0,
   "metadata": {
    "application/vnd.databricks.v1+cell": {
     "cellMetadata": {
      "byteLimit": 2048000,
      "rowLimit": 10000
     },
     "inputWidgets": {},
     "nuid": "3882b940-9c25-41ce-a301-72d8c0c90aaa",
     "showTitle": false,
     "title": ""
    }
   },
   "outputs": [],
   "source": [
    "from mlflow.metrics.genai import EvaluationExample, faithfulness\n",
    "\n",
    "# Create a good and bad example for faithfulness in the context of this problem\n",
    "faithfulness_examples = [\n",
    "    EvaluationExample(\n",
    "        input=\"what is the date of the maximum dividend in AT&T ?\",\n",
    "        output=\"The data of maximun date is April 8, 2021, with a dividend of 0.52\",\n",
    "        score=5,\n",
    "        justification=\"The output provides a date of the maximum dividend in AT&T that is provided in the context.\",\n",
    "        grading_context=\n",
    "            \"['Date: 1984-03-26 00:00:00-05:00\\nDividends: 0.116667\\nStock Splits: 0.0\\nFILENAME: ACTIONS', 'Date: 1985-01-04 00:00:00-05:00\\nDividends: 0.116667\\nStock Splits: 0.0\\nFILENAME: ACTIONS', 'Date: 1986-04-04 00:00:00-05:00\\nDividends: 0.133333\\nStock Splits: 0.0\\nFILENAME: ACTIONS', 'Date: 1986-07-03 00:00:00-04:00\\nDividends: 0.133333\\nStock Splits: 0.0\\nFILENAME: ACTIONS', 'Date: 1984-06-25 00:00:00-04:00\\nDividends: 0.116667\\nStock Splits: 0.0\\nFILENAME: ACTIONS']\"\n",
    "    )\n",
    "]\n",
    "\n",
    "faithfulness_metric = faithfulness(\n",
    "    model=\"endpoints:/databricks-llama-2-70b-chat\",examples=faithfulness_examples\n",
    ")\n",
    "print(faithfulness_metric)"
   ]
  },
  {
   "cell_type": "code",
   "execution_count": 0,
   "metadata": {
    "application/vnd.databricks.v1+cell": {
     "cellMetadata": {
      "byteLimit": 2048000,
      "rowLimit": 10000
     },
     "inputWidgets": {},
     "nuid": "b6f871a2-4197-4ea4-9795-5192da6354e7",
     "showTitle": false,
     "title": ""
    }
   },
   "outputs": [],
   "source": [
    "relevance_metric = relevance(model=\"endpoints:/openai\")\n",
    "print(relevance_metric)"
   ]
  },
  {
   "cell_type": "code",
   "execution_count": 0,
   "metadata": {
    "application/vnd.databricks.v1+cell": {
     "cellMetadata": {
      "byteLimit": 2048000,
      "rowLimit": 10000
     },
     "inputWidgets": {},
     "nuid": "ea40ce52-6ac7-4c20-9669-d24f80a6cebe",
     "showTitle": false,
     "title": ""
    }
   },
   "outputs": [],
   "source": [
    "#  **col_mapping**: A dictionary mapping column names in the input dataset or output\n",
    "#           predictions to column names used when invoking the evaluation functions.\n",
    "results = mlflow.evaluate(\n",
    "    model,\n",
    "    df,\n",
    "    model_type=\"question-answering\",\n",
    "    predictions=\"response\",\n",
    "    evaluators = \"default\",\n",
    "    extra_metrics=[faithfulness_metric, relevance_metric, mlflow.metrics.latency()],\n",
    "    evaluator_config={\n",
    "        \"col_mapping\": {\n",
    "            \"inputs\": \"query\",\n",
    "            \"context\": \"response\",\n",
    "        }\n",
    "    },\n",
    ")\n",
    "print(results.metrics)"
   ]
  },
  {
   "cell_type": "code",
   "execution_count": 0,
   "metadata": {
    "application/vnd.databricks.v1+cell": {
     "cellMetadata": {
      "byteLimit": 2048000,
      "rowLimit": 10000
     },
     "inputWidgets": {},
     "nuid": "efd7f7d4-6bf5-46c6-8fe6-fb9d219b0d2c",
     "showTitle": false,
     "title": ""
    }
   },
   "outputs": [],
   "source": [
    "results.tables[\"eval_results_table\"]"
   ]
  }
 ],
 "metadata": {
  "application/vnd.databricks.v1+notebook": {
   "dashboards": [],
   "environmentMetadata": null,
   "language": "python",
   "notebookMetadata": {
    "pythonIndentUnit": 2
   },
   "notebookName": "rag-evaluation",
   "widgets": {}
  },
  "kernelspec": {
   "display_name": "mlflow-dev-env",
   "language": "python",
   "name": "python3"
  },
  "language_info": {
   "name": "python"
  }
 },
 "nbformat": 4,
 "nbformat_minor": 0
}
